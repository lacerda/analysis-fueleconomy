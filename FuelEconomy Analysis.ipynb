{
 "cells": [
  {
   "cell_type": "markdown",
   "metadata": {},
   "source": [
    "# FuelEconomy.gov Vehicle Dataset\n",
    "\n",
    "As part of the application for a Data Scientist role, this notebook aims to initially answer a few questions about the dataset and ultimately present a real world story on how fuel efficiency has evolved over time. \n",
    "\n",
    "## The Dataset\n",
    "\n",
    "TLDR for this section: We' going to use `UCity` and `UHighway` as out main variables. Feel free to skip unless you want to know more about EPA methodology.\n",
    "\n",
    "FuelEconomy.gov has compiled a number of Miles Per Gallon measurements for many vehicles since 1984, each in different measurement settings, e.g. city, highway, fuel types [1]. It's a large dataset with some cryptic column names, so we should get to know it well before any number crunching.\n",
    "\n",
    "According to the website, these fuel economy measurements are taken in a lab with controlled conditions according to EPA specifications. A dynamometer is used to simulate travel under different conditions, varying resistance and speed. The fuel usage is then measured by the amount of carbon exhausted during the exercise, and compared against the simulated travel distance to calculate the resulting fuel economy [2].\n",
    "\n",
    "In addition, the EPA changes the testing methodology every few years to take into account how changes in driver behavior, vehicle technology and driving conditions affect fuel usage, using data from previous years [5]. This change in methodology will reveal itself to be relevant for this analysis.\n",
    "\n",
    "Our main variables of interest are those that provide a measurement of miles per gallon. They are:\n",
    "\n",
    "|      A |       B |       C |        D | E | F |      G   |\n",
    "| ------ | ------- | ------- | -------- | - | - | ------   |\n",
    "| city08 | city08U | cityA08 | cityA08U | UCity | UCityA | phevCity |\n",
    "| comb08 | comb08U | combA08 | combA08U | N/A | N/A  | phevComb  |\n",
    "| highway08 | highway08U | highwayA08 | highwayA08U | UHighway | UHighwayA| phevHwy |\n",
    "\n",
    "That's 19 variables of interest! That's a lot to process. Let's break this down:\n",
    "\n",
    "Note that a simpler way to represent these measurements are as a  a combination of simulation conditions and methodology: `city, comb, highway` with `08, 08U, A08, A08U, U, U\\*A, phev`. What do these titles refer to?\n",
    "\n",
    "The first group is straightforward: measurements taken in a city setting, a highway setting. `comb` refers to a weighted average of city and highway MPG values (.55 and .45 respectively) [3].\n",
    "\n",
    "The second group requires some explanation that can be found in the rest of the FuelEconomy.gov website:\n",
    "- `08`: Our best guess is this reflects the 2008 update to EPA methodology to account for *\"(1) faster speeds and acceleration, (2) air conditioner use, and (3) colder outside temperatures\"* [4].\n",
    "- `08U`: \"Unrounded\". Same value as above, but not rounded to nearest integer. Cursory inspection shows this value is zero before 2011. We'll investigate this.\n",
    "- `A08`: \"Alternative fuel\", e.g. E85, Electricity, CNG, LPG.\n",
    "- `A08U`: \"Unrounded Alternative Fuel\", for the above definition of unrounded.\n",
    "- `U`: \"Unadjusted\", according to the adjustments made by the EPA so that measurements for cars made between 2011-2016 are comparable to 2017 and newer.\n",
    "- `U\\*A`: \"Unadjusted Alternative Fuel\", for the above definition of unadjusted [4].\n",
    "- `phev`: MPG gasoline equivalent (MPGe) for plug-in hybrid electric vehicles (phev).\n",
    "\n",
    "Before we look into fuel economy, let's consider how we can compare vehicle by model year taking into account the changes in the EPA's methodology [5].\n",
    "\n",
    "- 1984-2007: Original measurements have been adjusted to be consistent with 2008 methodology.\n",
    "- 2008-2010: Calculated with 2008 methodology.\n",
    "- 2011-2016: Adjusted to match 2017 calculations, ratings changes guaranteed to be small (1-2 mpg lower than the originally calculated values).\n",
    "- 2017-    : Calculated with most recent methodology.\n",
    "\n",
    "The takeaway here is that there's no guarantee by the EPA that values between 1984-2010 model fuel efficiency and those of 2011-2017 are comparable!\n",
    "\n",
    "We'll keep it simple and stick to UCity and UHighway, as these values are present for most of the dataset.\n",
    "\n",
    "[1. FuelEconomy.gov Web Services](https://www.fueleconomy.gov/feg/ws/index.shtml#ft11)\n",
    "\n",
    "[2. How Vehicles Are Tested](https://www.fueleconomy.gov/feg/how_tested.shtml)\n",
    "\n",
    "[3. Gasoline Vehicles:\n",
    "Learn More About the Label](https://www.fueleconomy.gov/feg/label/learn-more-gasoline-label.shtml)\n",
    "\n",
    "[4. 2017 Ratings Changes](https://www.fueleconomy.gov/feg/ratings.shtml)\n",
    "\n",
    "[5. Basic Information on Fuel Economy Labeling](https://www.epa.gov/fueleconomy/basic-information-fuel-economy-labeling)"
   ]
  },
  {
   "cell_type": "code",
   "execution_count": 1,
   "metadata": {},
   "outputs": [],
   "source": [
    "import pandas as pd\n",
    "import matplotlib.pyplot as plt\n",
    "import seaborn as sns\n",
    "\n",
    "from sklearn.metrics import r2_score, mean_squared_error\n",
    "import numpy as np\n",
    "\n",
    "import statsmodels.api as sm\n",
    "from patsy import dmatrices\n",
    "\n",
    "df = pd.read_csv(\"vehicles.csv\", low_memory=False)"
   ]
  },
  {
   "cell_type": "markdown",
   "metadata": {},
   "source": [
    "## Which manufacturer produces the most fuel efficient fleet of cars?\n",
    "\n",
    "For that, let's define \"efficient\": Because we have more than one measurement of efficiency, we'll create a combined 'UComb' variable like the EPA did for other MPG variables, defined as a weighted mean between UCity and UHighway."
   ]
  },
  {
   "cell_type": "code",
   "execution_count": 2,
   "metadata": {},
   "outputs": [
    {
     "data": {
      "text/html": [
       "<div>\n",
       "<style scoped>\n",
       "    .dataframe tbody tr th:only-of-type {\n",
       "        vertical-align: middle;\n",
       "    }\n",
       "\n",
       "    .dataframe tbody tr th {\n",
       "        vertical-align: top;\n",
       "    }\n",
       "\n",
       "    .dataframe thead th {\n",
       "        text-align: right;\n",
       "    }\n",
       "</style>\n",
       "<table border=\"1\" class=\"dataframe\">\n",
       "  <thead>\n",
       "    <tr style=\"text-align: right;\">\n",
       "      <th></th>\n",
       "      <th>UComb</th>\n",
       "      <th>UCity</th>\n",
       "      <th>UHighway</th>\n",
       "    </tr>\n",
       "    <tr>\n",
       "      <th>make</th>\n",
       "      <th></th>\n",
       "      <th></th>\n",
       "      <th></th>\n",
       "    </tr>\n",
       "  </thead>\n",
       "  <tbody>\n",
       "    <tr>\n",
       "      <th>Tesla</th>\n",
       "      <td>129.735776</td>\n",
       "      <td>127.505172</td>\n",
       "      <td>132.462069</td>\n",
       "    </tr>\n",
       "    <tr>\n",
       "      <th>CODA Automotive</th>\n",
       "      <td>104.315000</td>\n",
       "      <td>110.300000</td>\n",
       "      <td>97.000000</td>\n",
       "    </tr>\n",
       "    <tr>\n",
       "      <th>BYD</th>\n",
       "      <td>96.400538</td>\n",
       "      <td>95.778233</td>\n",
       "      <td>97.161133</td>\n",
       "    </tr>\n",
       "    <tr>\n",
       "      <th>smart</th>\n",
       "      <td>89.802383</td>\n",
       "      <td>92.472678</td>\n",
       "      <td>86.538689</td>\n",
       "    </tr>\n",
       "    <tr>\n",
       "      <th>Azure Dynamics</th>\n",
       "      <td>88.490000</td>\n",
       "      <td>88.400000</td>\n",
       "      <td>88.600000</td>\n",
       "    </tr>\n",
       "  </tbody>\n",
       "</table>\n",
       "</div>"
      ],
      "text/plain": [
       "                      UComb       UCity    UHighway\n",
       "make                                               \n",
       "Tesla            129.735776  127.505172  132.462069\n",
       "CODA Automotive  104.315000  110.300000   97.000000\n",
       "BYD               96.400538   95.778233   97.161133\n",
       "smart             89.802383   92.472678   86.538689\n",
       "Azure Dynamics    88.490000   88.400000   88.600000"
      ]
     },
     "execution_count": 2,
     "metadata": {},
     "output_type": "execute_result"
    }
   ],
   "source": [
    "df['UComb'] = .55 * df['UCity'] + .45 * df['UHighway']\n",
    "fleet = df[['UComb', 'UCity', 'UHighway', 'make']]\n",
    "fleet.groupby(by='make').mean().sort_values(by='UComb', ascending=False).head()"
   ]
  },
  {
   "cell_type": "markdown",
   "metadata": {},
   "source": [
    "However, older manufacturers are at a disadvantage according to this table, as the older models bring the mean efficiency down.\n",
    "\n",
    "The question is posed in the present, therefore we will consider that only cars from 2018 and newer are still produced:"
   ]
  },
  {
   "cell_type": "code",
   "execution_count": 3,
   "metadata": {
    "scrolled": true
   },
   "outputs": [
    {
     "data": {
      "text/html": [
       "<div>\n",
       "<style scoped>\n",
       "    .dataframe tbody tr th:only-of-type {\n",
       "        vertical-align: middle;\n",
       "    }\n",
       "\n",
       "    .dataframe tbody tr th {\n",
       "        vertical-align: top;\n",
       "    }\n",
       "\n",
       "    .dataframe thead th {\n",
       "        text-align: right;\n",
       "    }\n",
       "</style>\n",
       "<table border=\"1\" class=\"dataframe\">\n",
       "  <thead>\n",
       "    <tr style=\"text-align: right;\">\n",
       "      <th></th>\n",
       "      <th>UComb</th>\n",
       "      <th>UCity</th>\n",
       "      <th>UHighway</th>\n",
       "    </tr>\n",
       "    <tr>\n",
       "      <th>make</th>\n",
       "      <th></th>\n",
       "      <th></th>\n",
       "      <th></th>\n",
       "    </tr>\n",
       "  </thead>\n",
       "  <tbody>\n",
       "    <tr>\n",
       "      <th>smart</th>\n",
       "      <td>156.705000</td>\n",
       "      <td>173.850000</td>\n",
       "      <td>135.750000</td>\n",
       "    </tr>\n",
       "    <tr>\n",
       "      <th>Tesla</th>\n",
       "      <td>142.075500</td>\n",
       "      <td>142.080000</td>\n",
       "      <td>142.070000</td>\n",
       "    </tr>\n",
       "    <tr>\n",
       "      <th>BYD</th>\n",
       "      <td>103.285000</td>\n",
       "      <td>104.500000</td>\n",
       "      <td>101.800000</td>\n",
       "    </tr>\n",
       "    <tr>\n",
       "      <th>Fiat</th>\n",
       "      <td>47.562172</td>\n",
       "      <td>41.880514</td>\n",
       "      <td>54.506421</td>\n",
       "    </tr>\n",
       "    <tr>\n",
       "      <th>Hyundai</th>\n",
       "      <td>44.545759</td>\n",
       "      <td>39.393111</td>\n",
       "      <td>50.843440</td>\n",
       "    </tr>\n",
       "  </tbody>\n",
       "</table>\n",
       "</div>"
      ],
      "text/plain": [
       "              UComb       UCity    UHighway\n",
       "make                                       \n",
       "smart    156.705000  173.850000  135.750000\n",
       "Tesla    142.075500  142.080000  142.070000\n",
       "BYD      103.285000  104.500000  101.800000\n",
       "Fiat      47.562172   41.880514   54.506421\n",
       "Hyundai   44.545759   39.393111   50.843440"
      ]
     },
     "execution_count": 3,
     "metadata": {},
     "output_type": "execute_result"
    }
   ],
   "source": [
    "current_fleet = df[['UComb', 'UCity', 'UHighway', 'make']][df.year >= 2018]\n",
    "current_fleet.groupby(by='make').mean().sort_values(by='UComb', ascending=False).head()"
   ]
  },
  {
   "cell_type": "markdown",
   "metadata": {},
   "source": [
    "Now Fiat and Hyundai are on the list, and smart on top, with the most efficient fleet currently in production."
   ]
  },
  {
   "cell_type": "markdown",
   "metadata": {},
   "source": [
    "## A model to predict city mpg\n",
    "\n",
    "Can we derive the city fuel economy from other variables?\n",
    "\n",
    "On a hunch, let's try UHighway. It would seem reasonable that there's a more or less linear relationship between city and highway efficiencies.\n",
    "\n",
    "We'll start with a visual inspection:"
   ]
  },
  {
   "cell_type": "code",
   "execution_count": 4,
   "metadata": {},
   "outputs": [
    {
     "data": {
      "text/plain": [
       "<matplotlib.axes._subplots.AxesSubplot at 0x7f5305a3b358>"
      ]
     },
     "execution_count": 4,
     "metadata": {},
     "output_type": "execute_result"
    },
    {
     "data": {
      "image/png": "[encoded data removed]",
      "text/plain": [
       "<Figure size 432x288 with 1 Axes>"
      ]
     },
     "metadata": {
      "needs_background": "light"
     },
     "output_type": "display_data"
    }
   ],
   "source": [
    "df.plot.scatter('UHighway', 'UCity')"
   ]
  },
  {
   "cell_type": "markdown",
   "metadata": {},
   "source": [
    "Seems like the relationship is not perfectly linear, but almost.\n",
    "\n",
    "We have a single train/test split, and K-fold cross validation would be more robust, but for simplicity we'll just use a single split."
   ]
  },
  {
   "cell_type": "code",
   "execution_count": 5,
   "metadata": {},
   "outputs": [],
   "source": [
    "# Helper functions\n",
    "def sm_regression(model, x_train, y_train, x_test, y_test):\n",
    "    m = model(y_train, x_train)\n",
    "    m = m.fit()\n",
    "    print(m.summary())\n",
    "    \n",
    "    pred = m.predict(x_train)\n",
    "    print(\"\\n======= Training vs Testing set performance: =================================\")\n",
    "    print(\"\\tTraining RMSE     : %.2f\" % mean_squared_error(y_train, pred)**(1/2))\n",
    "    print(\"\\tTraining R-squared: %.2f\" % r2_score(y_train, pred))\n",
    "    pred = m.predict(x_test)\n",
    "    print(\"\\tTesting RMSE      : %.2f\" % mean_squared_error(y_test, pred)**(1/2))\n",
    "    print(\"\\tTesting R-squared : %.2f\" % r2_score(y_test, pred))\n",
    "    \n",
    "    return m\n",
    "    \n",
    "def make_dummy(data, category, prefix):\n",
    "    # Creates dummies with preserved index\n",
    "    dummies = pd.get_dummies(data[category], prefix=prefix)\n",
    "    dummies = dummies.set_index(data.index)\n",
    "    # Rename columns to remove spaces\n",
    "    replace = lambda s: s.replace(\" \", \"_\").replace(\"/\",\"_\").replace(\",\",\"_\").replace(\"-\",\"_\")\n",
    "    dummies = dummies.rename(replace, axis='columns')\n",
    "    return dummies\n",
    "\n",
    "df_train = df.sample(frac=0.8, random_state=1337)\n",
    "df_test = df.drop(df_train.index)"
   ]
  },
  {
   "cell_type": "code",
   "execution_count": 6,
   "metadata": {},
   "outputs": [
    {
     "name": "stdout",
     "output_type": "stream",
     "text": [
      "                            OLS Regression Results                            \n",
      "==============================================================================\n",
      "Dep. Variable:                  UCity   R-squared:                       0.854\n",
      "Model:                            OLS   Adj. R-squared:                  0.854\n",
      "Method:                 Least Squares   F-statistic:                 1.875e+05\n",
      "Date:                Mon, 20 May 2019   Prob (F-statistic):               0.00\n",
      "Time:                        00:15:55   Log-Likelihood:                -89750.\n",
      "No. Observations:               32065   AIC:                         1.795e+05\n",
      "Df Residuals:                   32063   BIC:                         1.795e+05\n",
      "Df Model:                           1                                         \n",
      "Covariance Type:            nonrobust                                         \n",
      "==============================================================================\n",
      "                 coef    std err          t      P>|t|      [0.025      0.975]\n",
      "------------------------------------------------------------------------------\n",
      "Intercept     -7.5264      0.074   -101.921      0.000      -7.671      -7.382\n",
      "UHighway       0.8942      0.002    432.997      0.000       0.890       0.898\n",
      "==============================================================================\n",
      "Omnibus:                    36506.552   Durbin-Watson:                   2.003\n",
      "Prob(Omnibus):                  0.000   Jarque-Bera (JB):          7998780.544\n",
      "Skew:                           5.645   Prob(JB):                         0.00\n",
      "Kurtosis:                      79.547   Cond. No.                         119.\n",
      "==============================================================================\n",
      "\n",
      "Warnings:\n",
      "[1] Standard Errors assume that the covariance matrix of the errors is correctly specified.\n",
      "\n",
      "======= Training vs Testing set performance: =================================\n",
      "\tTraining RMSE     : 3.98\n",
      "\tTraining R-squared: 0.85\n",
      "\tTesting RMSE      : 4.06\n",
      "\tTesting R-squared : 0.86\n"
     ]
    }
   ],
   "source": [
    "# Model 1: UCity ~ UHighway\n",
    "\n",
    "y_train, x_train = dmatrices('UCity ~ UHighway', data=df_train, return_type='dataframe')\n",
    "y_test, x_test = dmatrices('UCity ~ UHighway', data=df_test, return_type='dataframe')\n",
    "\n",
    "lm = sm_regression(sm.OLS, x_train, y_train, x_test, y_test)"
   ]
  },
  {
   "cell_type": "markdown",
   "metadata": {},
   "source": [
    "Not bad for a single variable! Let's interpret the results:\n",
    "\n",
    "- The R-squared score is decently high.\n",
    "- RMSE shows we're only missing by 4 MPG on average.\n",
    "- P-values are under 5%.\n",
    "- For each 1 MPG increase in UHighway, we have a 0.89 MPG increase in UCity.\n",
    "- It's important to compare Training vs Testing performance to avoid overfitting. So far this is not happening.\n",
    "\n",
    "However, we can most likely improve the model. Notice that the intercept (that is, the value of UCity when UHighway is zero) is -7. That makes no sense. There are two hypothesis we can investigate that might solve that:\n",
    "\n",
    "1. The intercept is zero. That is, for a vehicle that does 0 MPG on the highway, it would also do 0 MPG in city conditions.\n",
    "2. Looking back at the graph, you may notice the relationship between Highway MPG and City MPG is not linear. Our model should account for that. One solution to solve this is by using a log-log model."
   ]
  },
  {
   "cell_type": "code",
   "execution_count": 7,
   "metadata": {},
   "outputs": [
    {
     "name": "stdout",
     "output_type": "stream",
     "text": [
      "                            OLS Regression Results                            \n",
      "==============================================================================\n",
      "Dep. Variable:               ln_UCity   R-squared:                       0.999\n",
      "Model:                            OLS   Adj. R-squared:                  0.999\n",
      "Method:                 Least Squares   F-statistic:                 2.946e+07\n",
      "Date:                Mon, 20 May 2019   Prob (F-statistic):               0.00\n",
      "Time:                        00:15:55   Log-Likelihood:                 27213.\n",
      "No. Observations:               32065   AIC:                        -5.442e+04\n",
      "Df Residuals:                   32064   BIC:                        -5.442e+04\n",
      "Df Model:                           1                                         \n",
      "Covariance Type:            nonrobust                                         \n",
      "===============================================================================\n",
      "                  coef    std err          t      P>|t|      [0.025      0.975]\n",
      "-------------------------------------------------------------------------------\n",
      "ln_UHighway     0.8890      0.000   5427.638      0.000       0.889       0.889\n",
      "==============================================================================\n",
      "Omnibus:                    12903.060   Durbin-Watson:                   2.007\n",
      "Prob(Omnibus):                  0.000   Jarque-Bera (JB):           109300.469\n",
      "Skew:                           1.714   Prob(JB):                         0.00\n",
      "Kurtosis:                      11.370   Cond. No.                         1.00\n",
      "==============================================================================\n",
      "\n",
      "Warnings:\n",
      "[1] Standard Errors assume that the covariance matrix of the errors is correctly specified.\n",
      "\n",
      "======= Training vs Testing set performance: =================================\n",
      "\tTraining RMSE     : 0.10\n",
      "\tTraining R-squared: 0.88\n",
      "\tTesting RMSE      : 0.11\n",
      "\tTesting R-squared : 0.87\n"
     ]
    },
    {
     "data": {
      "text/plain": [
       "<matplotlib.axes._subplots.AxesSubplot at 0x7f5305179908>"
      ]
     },
     "execution_count": 7,
     "metadata": {},
     "output_type": "execute_result"
    },
    {
     "data": {
      "image/png": "[encoded data removed]",
      "text/plain": [
       "<Figure size 432x288 with 1 Axes>"
      ]
     },
     "metadata": {
      "needs_background": "light"
     },
     "output_type": "display_data"
    }
   ],
   "source": [
    "# Use log-log model to linearize the relationship:\n",
    "# This is equivalent to modeling percentage increases between UHighway and UCity.\n",
    "df_train['ln_UCity'] = np.log(1 + df_train['UCity'])\n",
    "df_train['ln_UHighway'] = np.log(1 + df_train['UHighway'])\n",
    "df_test['ln_UCity'] = np.log(1 + df_test['UCity'])\n",
    "df_test['ln_UHighway'] = np.log(1 + df_test['UHighway'])\n",
    "\n",
    "# Run model with intercept zero\n",
    "eq = 'ln_UCity ~ ln_UHighway - 1'\n",
    "\n",
    "y_train, x_train = dmatrices(eq, data=df_train, return_type='dataframe')\n",
    "y_test, x_test = dmatrices(eq, data=df_test, return_type='dataframe')\n",
    "\n",
    "lm = sm_regression(sm.OLS, x_train, y_train, x_test, y_test)\n",
    "\n",
    "df_train.plot.scatter('ln_UHighway', 'ln_UCity')"
   ]
  },
  {
   "cell_type": "markdown",
   "metadata": {},
   "source": [
    "The model makes more sense now!\n",
    "\n",
    "1. The intercept is zero for UCity, solving our first model specification issue.\n",
    "2. By using the log-log model, the relationship between them is linearized, although it changes how we interpret the model. We are now modeling percentage change between the variables.\n",
    "\n",
    "Now, for each percent of increase in UHighway, we have a 0.89% increase in UCity.\n",
    "\n",
    "As a bonus, the R-squared has also improved and our error for UCity is 10 percentage points on average.\n",
    "\n",
    "Also note some entries have all zero values for UCity, UHighway, for all fuel types. No explanation was given on what this means. Normally this would be an argument to remove them from our analysis on the basis it's noise, but our model can still accomodate this, thanks to the decision of adopting a zero intercept.\n",
    "\n",
    "For our next model, consider that technology improves over time. Perhaps with every passing year, the behavior of UCity changes. Does it?"
   ]
  },
  {
   "cell_type": "code",
   "execution_count": 8,
   "metadata": {
    "scrolled": true
   },
   "outputs": [
    {
     "data": {
      "image/png": "[encoded data removed]",
      "text/plain": [
       "<Figure size 432x288 with 1 Axes>"
      ]
     },
     "metadata": {
      "needs_background": "light"
     },
     "output_type": "display_data"
    }
   ],
   "source": [
    "# State-of-the-art efficiency by year\n",
    "groups = df.groupby('year')\n",
    "\n",
    "fig, ax = plt.subplots()\n",
    "for year, group in groups:\n",
    "    top = group.sort_values(by='UCity', ascending=False).head(1)\n",
    "    ax.plot(year, top['UCity'], marker='o', linestyle='', label=top['make'])\n",
    "# ax.legend(loc='upper left', bbox_to_anchor=(0,-0.1), ncol=5)\n",
    "plt.xlabel('Year')\n",
    "plt.ylabel('UCity')\n",
    "plt.title('State-of-the-art fuel efficiency in city conditions')\n",
    "plt.show()"
   ]
  },
  {
   "cell_type": "code",
   "execution_count": 9,
   "metadata": {},
   "outputs": [
    {
     "name": "stdout",
     "output_type": "stream",
     "text": [
      "                            OLS Regression Results                            \n",
      "==============================================================================\n",
      "Dep. Variable:               ln_UCity   R-squared:                       0.999\n",
      "Model:                            OLS   Adj. R-squared:                  0.999\n",
      "Method:                 Least Squares   F-statistic:                 1.516e+07\n",
      "Date:                Mon, 20 May 2019   Prob (F-statistic):               0.00\n",
      "Time:                        00:15:56   Log-Likelihood:                 27680.\n",
      "No. Observations:               32065   AIC:                        -5.536e+04\n",
      "Df Residuals:                   32063   BIC:                        -5.534e+04\n",
      "Df Model:                           2                                         \n",
      "Covariance Type:            nonrobust                                         \n",
      "===============================================================================\n",
      "                  coef    std err          t      P>|t|      [0.025      0.975]\n",
      "-------------------------------------------------------------------------------\n",
      "ln_UHighway     0.8971      0.000   2909.192      0.000       0.896       0.898\n",
      "year_adj       -0.0017   5.37e-05    -30.782      0.000      -0.002      -0.002\n",
      "==============================================================================\n",
      "Omnibus:                    14284.210   Durbin-Watson:                   2.009\n",
      "Prob(Omnibus):                  0.000   Jarque-Bera (JB):           146506.869\n",
      "Skew:                           1.876   Prob(JB):                         0.00\n",
      "Kurtosis:                      12.776   Cond. No.                         11.2\n",
      "==============================================================================\n",
      "\n",
      "Warnings:\n",
      "[1] Standard Errors assume that the covariance matrix of the errors is correctly specified.\n",
      "\n",
      "======= Training vs Testing set performance: =================================\n",
      "\tTraining RMSE     : 0.10\n",
      "\tTraining R-squared: 0.88\n",
      "\tTesting RMSE      : 0.10\n",
      "\tTesting R-squared : 0.88\n"
     ]
    }
   ],
   "source": [
    "# \"Reset\" the year first to avoid numerical issues\n",
    "df_train['year_adj'] = df_train['year'] - 1984\n",
    "df_test['year_adj'] = df_test['year'] - 1984\n",
    "\n",
    "eq = 'ln_UCity ~ ln_UHighway + year_adj - 1'\n",
    "\n",
    "y_train, x_train = dmatrices(eq, data=df_train, return_type='dataframe')\n",
    "y_test, x_test = dmatrices(eq, data=df_test, return_type='dataframe')\n",
    "\n",
    "lm = sm_regression(sm.OLS, x_train, y_train, x_test, y_test)"
   ]
  },
  {
   "cell_type": "markdown",
   "metadata": {},
   "source": [
    "Our model hasn't improved much. Although year has a low p-value, we'll follow Occam's razor and remove it.\n",
    "\n",
    "It might be the case that while UCity has changed over time (as we have seen previuously), this is already reflected in UHighway, thus it provides very little additional explanatory value.\n",
    "\n",
    "Next: Let's take a step back and consider that the vehicles here draw from a variety of energy sources, with varying combustion power, and sometimes more than one energy source.\n",
    "\n",
    "Hybrid and Electric particularly are known for reabsorbing brake energy, so it's reasonable to expect they would behave more efficiently in a city setting.\n",
    "\n",
    "For that, we'll have to process these categorical values into dummy variables."
   ]
  },
  {
   "cell_type": "code",
   "execution_count": 10,
   "metadata": {},
   "outputs": [
    {
     "name": "stdout",
     "output_type": "stream",
     "text": [
      "                            OLS Regression Results                            \n",
      "==============================================================================\n",
      "Dep. Variable:               ln_UCity   R-squared:                       0.916\n",
      "Model:                            OLS   Adj. R-squared:                  0.916\n",
      "Method:                 Least Squares   F-statistic:                 3.489e+04\n",
      "Date:                Mon, 20 May 2019   Prob (F-statistic):               0.00\n",
      "Time:                        00:15:56   Log-Likelihood:                 33088.\n",
      "No. Observations:               32065   AIC:                        -6.615e+04\n",
      "Df Residuals:                   32054   BIC:                        -6.606e+04\n",
      "Df Model:                          10                                         \n",
      "Covariance Type:            nonrobust                                         \n",
      "========================================================================================\n",
      "                           coef    std err          t      P>|t|      [0.025      0.975]\n",
      "----------------------------------------------------------------------------------------\n",
      "ln_UHighway              0.9643      0.002    516.212      0.000       0.961       0.968\n",
      "f1_Diesel               -0.2159      0.007    -29.099      0.000      -0.230      -0.201\n",
      "f1_Electricity           0.2571      0.012     21.936      0.000       0.234       0.280\n",
      "f1_Midgrade_Gasoline    -0.3700      0.012    -30.694      0.000      -0.394      -0.346\n",
      "f1_Natural_Gas          -0.2604      0.013    -19.585      0.000      -0.286      -0.234\n",
      "f1_Premium_Gasoline     -0.3176      0.007    -47.775      0.000      -0.331      -0.305\n",
      "f1_Regular_Gasoline     -0.2503      0.007    -38.017      0.000      -0.263      -0.237\n",
      "f2_E85                  -0.0555      0.003    -21.130      0.000      -0.061      -0.050\n",
      "f2_Electricity           0.2898      0.009     30.659      0.000       0.271       0.308\n",
      "f2_Natural_Gas           0.0615      0.020      3.006      0.003       0.021       0.102\n",
      "f2_Propane               0.2503      0.036      6.989      0.000       0.180       0.321\n",
      "==============================================================================\n",
      "Omnibus:                     5120.320   Durbin-Watson:                   2.002\n",
      "Prob(Omnibus):                  0.000   Jarque-Bera (JB):            15095.293\n",
      "Skew:                           0.845   Prob(JB):                         0.00\n",
      "Kurtosis:                       5.905   Cond. No.                         270.\n",
      "==============================================================================\n",
      "\n",
      "Warnings:\n",
      "[1] Standard Errors assume that the covariance matrix of the errors is correctly specified.\n",
      "\n",
      "======= Training vs Testing set performance: =================================\n",
      "\tTraining RMSE     : 0.09\n",
      "\tTraining R-squared: 0.92\n",
      "\tTesting RMSE      : 0.09\n",
      "\tTesting R-squared : 0.92\n"
     ]
    }
   ],
   "source": [
    "dummies_1_train = make_dummy(df_train, 'fuelType1', prefix='f1')\n",
    "dummies_2_train = make_dummy(df_train, 'fuelType2', prefix='f2')\n",
    "\n",
    "dummies_1_test = make_dummy(df_test, 'fuelType1', prefix='f1')\n",
    "dummies_2_test = make_dummy(df_test, 'fuelType2', prefix='f2')\n",
    "\n",
    "df2_train = pd.concat([df_train, dummies_1_train, dummies_2_train], axis=1, sort=False)\n",
    "df2_test = pd.concat([df_test, dummies_1_test, dummies_2_test], axis=1, sort=False)\n",
    "\n",
    "assert list(dummies_1_train.columns) == list(dummies_1_test.columns)\n",
    "assert list(dummies_2_train.columns) == list(dummies_2_test.columns)\n",
    "\n",
    "columns = ['ln_UHighway'] + list(dummies_1_train.columns) + list(dummies_2_train.columns)\n",
    "\n",
    "eq = 'ln_UCity ~ ' + ' + '.join(columns) + ' - 1'\n",
    "\n",
    "y_train, x_train = dmatrices(eq, data=df2_train, return_type='dataframe')\n",
    "y_test, x_test = dmatrices(eq, data=df2_test, return_type='dataframe')\n",
    "\n",
    "lm = sm_regression(sm.OLS, x_train, y_train, x_test, y_test)"
   ]
  },
  {
   "cell_type": "markdown",
   "metadata": {},
   "source": [
    "That's a bit of improvement! An additional 4p.p. in R-squared and a lower RMSE in both sets."
   ]
  },
  {
   "cell_type": "markdown",
   "metadata": {},
   "source": [
    "# Fuel economy over time\n",
    "\n",
    "How has fuel economy progressed through time and what are trends we notice? Let's use UComb for this analysis as a proxy for general fuel economy.\n",
    "\n",
    "Consider the petroleum consumption vs fuel efficiency chart. For easier visualization, efficiency values are in log, due to the difference in scale between the state-of-the-art (orange) and the mean (blue)."
   ]
  },
  {
   "cell_type": "code",
   "execution_count": 11,
   "metadata": {
    "scrolled": true
   },
   "outputs": [
    {
     "data": {
      "text/plain": [
       "Text(0.5, 1.0, 'Petroleum consumption vs. Fuel Efficiency')"
      ]
     },
     "execution_count": 11,
     "metadata": {},
     "output_type": "execute_result"
    },
    {
     "data": {
      "image/png": "[encoded data removed]",
      "text/plain": [
       "<Figure size 432x288 with 2 Axes>"
      ]
     },
     "metadata": {
      "needs_background": "light"
     },
     "output_type": "display_data"
    }
   ],
   "source": [
    "groups = df[['year', 'UComb']].groupby('year')\n",
    "df_soa = groups.max()\n",
    "df_soa['ln_max_UComb'] = np.log(1 + df_soa['UComb'])\n",
    "\n",
    "df['ln_UComb'] = np.log(1 + df['UComb'])\n",
    "\n",
    "df_plot = pd.merge(df, df_soa, on='year')\n",
    "\n",
    "ax = sns.lineplot('year', 'ln_UComb', label='ln_UComb', data=df_plot.sort_values(by='year'))\n",
    "ax = sns.lineplot('year', 'ln_max_UComb', label='ln_max_UComb', data=df_plot.sort_values(by='year'))\n",
    "plt.legend(loc='lower left', bbox_to_anchor=(0.65, -.3))\n",
    "ax2 = ax.twinx()\n",
    "ax2 = sns.lineplot('year', 'barrels08', label='barrels08', data=df_plot.sort_values(by='year'), ax=ax2, color='green')\n",
    "plt.legend(loc='lower right', bbox_to_anchor=(0.65, -.3))\n",
    "plt.title(\"Petroleum consumption vs. Fuel Efficiency\")"
   ]
  },
  {
   "cell_type": "markdown",
   "metadata": {},
   "source": [
    "It's possible to visually separate the state-of-the-art into 3 periods:\n",
    "\n",
    "1. From 1985 until the late 1990s, efficiencies were pretty much stable.\n",
    "2. Late 1990s until 2009.\n",
    "3. 2009 to present day.\n",
    "\n",
    "One may argue that the driving force behind the two transitions is a combination of political and economic forces.\n",
    "\n",
    "Namely:\n",
    "1. The high price of oil in the late 1990s drove buyers to prefer more efficient vehicles, pressuring manufacturers to produce more efficient cars [6].\n",
    "2. President Obama mandated goals for fuel efficiency by 2025 [7].\n",
    "\n",
    "The average efficiency is much lower than the state-of-the-art, but slowly follows the trend.\n",
    "\n",
    "Consumption of barrels is curiously positively correlated with the state-of-the-art during the first period, but after then is inversely correlated as would be expected.\n",
    "\n",
    "\n",
    "[6] https://www.macrotrends.net/1369/crude-oil-price-history-chart\n",
    "\n",
    "[7] https://www.nytimes.com/2009/05/19/business/19emissions.html\n"
   ]
  },
  {
   "cell_type": "markdown",
   "metadata": {},
   "source": [
    "Can we see a similar trend in the fuels used by vehicle models over time? For this, we can count the amount of models that use each type of fuel for its main source of energy."
   ]
  },
  {
   "cell_type": "code",
   "execution_count": 12,
   "metadata": {},
   "outputs": [
    {
     "data": {
      "text/plain": [
       "Text(0.5, 1.0, 'Number of models per main fuel category')"
      ]
     },
     "execution_count": 12,
     "metadata": {},
     "output_type": "execute_result"
    },
    {
     "data": {
      "image/png": "[encoded data removed]",
      "text/plain": [
       "<Figure size 720x360 with 1 Axes>"
      ]
     },
     "metadata": {
      "needs_background": "light"
     },
     "output_type": "display_data"
    }
   ],
   "source": [
    "fuel1 = df.groupby(['year']).fuelType1.value_counts().unstack(0).T.plot.bar(stacked=True, figsize=(10,5))\n",
    "\n",
    "plt.legend(loc='upper right')\n",
    "plt.title(\"Number of models per main fuel category\")"
   ]
  },
  {
   "cell_type": "markdown",
   "metadata": {},
   "source": [
    "We may note:\n",
    "- Gasoline is still the fuel of choice.\n",
    "- The amount of diesel vehicles released has dropped quickly since 1984, but persistes to this day.\n",
    "- Since 1999, Natural Gas powered vehicles have been introduced until the mid 2000s, likely as a response to rising oil prices.\n",
    "- Electricity as a main energy source has been rising since the early 2010s. This is likely an effort to meet the 2025 fuel efficiency goals, as well as to keep up with rising sustainability trends."
   ]
  },
  {
   "cell_type": "code",
   "execution_count": 13,
   "metadata": {},
   "outputs": [
    {
     "data": {
      "text/plain": [
       "Text(0.5, 1.0, 'Number of models using alternative fuel')"
      ]
     },
     "execution_count": 13,
     "metadata": {},
     "output_type": "execute_result"
    },
    {
     "data": {
      "image/png": "[encoded data removed]",
      "text/plain": [
       "<Figure size 720x360 with 1 Axes>"
      ]
     },
     "metadata": {
      "needs_background": "light"
     },
     "output_type": "display_data"
    }
   ],
   "source": [
    "fuel2 = df.groupby(['year']).fuelType2.value_counts().unstack(0).T.plot.bar(stacked=True, figsize=(10,5))\n",
    "\n",
    "plt.legend(loc='upper right')\n",
    "plt.title(\"Number of models using alternative fuel\")"
   ]
  },
  {
   "cell_type": "markdown",
   "metadata": {},
   "source": [
    "Natural gas and propane as alternative fuels started becoming a more common release in the 2000s, probably due to a combination of high oil prices and not enough technological advancements to enable electric cars as a feasible option for the market.\n",
    "\n",
    "Merely two years after the fuel efficiency goals were mandated, a few models using electricity as an alternative fuel were introduced, with a steady growth to this day.\n",
    "\n",
    "While electric cars are state-of-the-art in terms of fuel efficiency, they are still the minority in the market and the economy still dependent on oil for the most part."
   ]
  },
  {
   "cell_type": "markdown",
   "metadata": {},
   "source": [
    "## What was left out\n",
    "\n",
    "Because this is intended as a short challenge for a Data Scientist position, there's a lot we didn't cover here: How the EPA methodology works, its flaws, assumptions and unexplained details about the dataset. [\"The Volkswagen emissions scandal\"](https://en.wikipedia.org/wiki/Emissionsgate) is an interesting read.\n",
    "\n",
    "The assumptions behind the linear regression models were also handwaved. The strongest assumption we used is that the underlying data is normally distributed. Visually, there's some level of heteroskedasticity between UCity and UHighway that we haven't addressed, which means the errors are not independent of UHighway, thus biasing the standard error (and therefore t-statistics and p-values).\n",
    "\n",
    "For the fuel economy history section, a regression model for efficiency using dummies for each of the three periods would have served as a hypothesis test for these claims.\n",
    "\n",
    "Finally, we could have modelled trends in fuel usage and engine types for the coming years to predict future fuel efficiency."
   ]
  },
  {
   "cell_type": "code",
   "execution_count": null,
   "metadata": {},
   "outputs": [],
   "source": []
  }
 ],
 "metadata": {
  "kernelspec": {
   "display_name": "Python 3",
   "language": "python",
   "name": "python3"
  },
  "language_info": {
   "codemirror_mode": {
    "name": "ipython",
    "version": 3
   },
   "file_extension": ".py",
   "mimetype": "text/x-python",
   "name": "python",
   "nbconvert_exporter": "python",
   "pygments_lexer": "ipython3",
   "version": "3.7.3"
  }
 },
 "nbformat": 4,
 "nbformat_minor": 2
}
